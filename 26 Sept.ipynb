{
 "cells": [
  {
   "cell_type": "code",
   "execution_count": 2,
   "id": "4007cf3e-d6fc-4742-864a-d631cf9e3c0a",
   "metadata": {},
   "outputs": [
    {
     "name": "stdout",
     "output_type": "stream",
     "text": [
      "Enter a side of square :5\n",
      "Area of the square = 25\n"
     ]
    }
   ],
   "source": [
    "a=int(input(\"Enter a side of square :\")) \n",
    "b=a*a \n",
    "print(f\"Area of the square = {b}\")"
   ]
  },
  {
   "cell_type": "code",
   "execution_count": 3,
   "id": "ab3897c4-afb6-43c6-b35d-3923494bc803",
   "metadata": {},
   "outputs": [
    {
     "name": "stdout",
     "output_type": "stream",
     "text": [
      "Enter the height of the right angle triangle :5\n",
      "Enter the base of the right angle triangle :10\n",
      "Area of the right angle triangle is =25.0\n"
     ]
    }
   ],
   "source": [
    "height=int(input(\"Enter the height of the right angle triangle :\"))\n",
    "base=int(input(\"Enter the base of the right angle triangle :\"))\n",
    "area=0.5*base*height\n",
    "print(\"Area of the right angle triangle is ={}\".format(area))"
   ]
  },
  {
   "cell_type": "code",
   "execution_count": 8,
   "id": "6d3ea391-c891-4acc-b17f-2a45ad84144a",
   "metadata": {},
   "outputs": [
    {
     "name": "stdin",
     "output_type": "stream",
     "text": [
      "Please enter your name : Linto\n"
     ]
    },
    {
     "name": "stdout",
     "output_type": "stream",
     "text": [
      "Hello,Linto!\n"
     ]
    }
   ],
   "source": [
    "a=(input(\"Please enter your name :\"))\n",
    "print(\"Hello,{}!\".format(a))"
   ]
  },
  {
   "cell_type": "code",
   "execution_count": 1,
   "id": "963fad14-63fb-461d-bb8b-5c91e500c968",
   "metadata": {},
   "outputs": [
    {
     "name": "stdout",
     "output_type": "stream",
     "text": [
      "Enter a number :5\n",
      "The previous number is  4\n",
      "The next number is 6\n"
     ]
    }
   ],
   "source": [
    "n=int(input(\"Enter a number :\"))\n",
    "print(\"The previous number is \",n-1)\n",
    "print(\"The next number is\",n+1)"
   ]
  },
  {
   "cell_type": "code",
   "execution_count": 4,
   "id": "a3722fe0-3971-4e36-8d67-4957fcabd125",
   "metadata": {},
   "outputs": [
    {
     "name": "stdout",
     "output_type": "stream",
     "text": [
      "Enter the amount :4000\n",
      "Enter the itrest rate :8\n",
      "Enter the number of years :5\n",
      "The simple intrest you will get for amount 4000.0 in 5.0 years at 0.08 intrest is = 1600.0\n"
     ]
    }
   ],
   "source": [
    "amount=float(input(\"Enter the amount :\"))\n",
    "rate=float(input(\"Enter the itrest rate :\"))\n",
    "years=float(input(\"Enter the number of years :\"))\n",
    "rate=rate/100\n",
    "simple_intrest=amount*rate*years\n",
    "print(\"The simple intrest you will get for amount {} in {} years at {} intrest is = {}\".format(amount,years,rate,simple_intrest))"
   ]
  },
  {
   "cell_type": "code",
   "execution_count": null,
   "id": "a440ba7e-f607-47d4-b6a7-57cc29041be3",
   "metadata": {},
   "outputs": [],
   "source": []
  }
 ],
 "metadata": {
  "kernelspec": {
   "display_name": "Python 3",
   "language": "python",
   "name": "python3"
  },
  "language_info": {
   "codemirror_mode": {
    "name": "ipython",
    "version": 3
   },
   "file_extension": ".py",
   "mimetype": "text/x-python",
   "name": "python",
   "nbconvert_exporter": "python",
   "pygments_lexer": "ipython3",
   "version": "3.6.7"
  }
 },
 "nbformat": 4,
 "nbformat_minor": 5
}
