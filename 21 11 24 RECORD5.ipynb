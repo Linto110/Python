
{
 "cells": [
  {
   "cell_type": "code",
   "execution_count": 54,
   "id": "00518892-a64c-45fa-a6fc-eb60ebefcb9a",
   "metadata": {},
   "outputs": [
    {
     "name": "stdout",
     "output_type": "stream",
     "text": [
      "Enter a number :5\n",
      "Enter a number :10\n",
      "GCD of 5 and 10 = 5\n"
     ]
    }
   ],
   "source": [
    "# GCD OF 2 NUM\n",
    "a=int(input(\"Enter a number :\"))\n",
    "b=int(input(\"Enter a number :\"))\n",
    "c=a\n",
    "d=b\n",
    "while b:\n",
    "    a,b=b,a%b\n",
    "print(f\"GCD of {c} and {d} = {a}\")"
   ]
  },
  {
   "cell_type": "code",
   "execution_count": 55,
   "id": "47429439-70ee-4177-96c1-15fe3ab15052",
   "metadata": {},
   "outputs": [
    {
     "name": "stdout",
     "output_type": "stream",
     "text": [
      "Enter a list of numbers :1 2 3 4 5 6 7 8 9\n",
      "After removing even : [1, 3, 5, 7, 9]\n"
     ]
    }
   ],
   "source": [
    "# REMOVING EVEN NUMBERS\n",
    "numbers=input(\"Enter a list of numbers :\").split()\n",
    "num=[]\n",
    "for x in numbers:\n",
    "    if(int(x)%2!=0):\n",
    "        num.append(int(x))\n",
    "print(\"After removing even :\",num)"
   ]
  },
  {
   "cell_type": "code",
   "execution_count": 50,
   "id": "770bcd7c-4457-48de-9b4e-6a72a908cb70",
   "metadata": {},
   "outputs": [
    {
     "name": "stdout",
     "output_type": "stream",
     "text": [
      "Enter a list of numbers : 1 2 3 4\n",
      "Sum of elements in the list : 10\n"
     ]
    }
   ],
   "source": [
    "# SUM OF ITEMS IN LIST\n",
    "numbers=input(\"Enter a list of numbers : \").split()\n",
    "total=0\n",
    "for x in numbers:\n",
    "    total+=int(x)\n",
    "print(\"Sum of elements in the list :\",total)"
   ]
  },
  {
   "cell_type": "code",
   "execution_count": 36,
   "id": "5d7897e3",
   "metadata": {},
   "outputs": [
    {
     "name": "stdout",
     "output_type": "stream",
     "text": [
      "Enter the starting index :1000\n",
      "Enter the ending index :9999\n",
      "Four digits even perfect square numbers = [4624, 6084, 6400, 8464]\n"
     ]
    }
   ],
   "source": [
    "# GENERATE 4 DIGIT\n",
    "import math\n",
    "start=int(input(\"Enter the starting index :\"))\n",
    "end=int(input(\"Enter the ending index :\"))\n",
    "start=max(1000,start)\n",
    "end=min(9999,end)\n",
    "results=[]\n",
    "for i in range(start,end+1):\n",
    "    if int(math.sqrt(i)) ** 2 == i and all(int(digit) % 2 == 0 for digit in str(i)):\n",
    "        results.append(i)\n",
    "print(\"Four digits even perfect square numbers =\",results)"
   ]
  },
  {
   "cell_type": "code",
   "execution_count": 45,
   "id": "a3725a8d-a275-49de-99f2-9daadf0cb18a",
   "metadata": {},
   "outputs": [
    {
     "name": "stdout",
     "output_type": "stream",
     "text": [
      "Enter a string: hello\n",
      "[h] occurs : 1 times\n",
      "[l] occurs : 2 times\n",
      "[o] occurs : 1 times\n",
      "[e] occurs : 1 times\n"
     ]
    }
   ],
   "source": [
    "# FREQUENCY COUNT\n",
    "word = input(\"Enter a string: \")\n",
    "count = []\n",
    "for ch in set(word):\n",
    "    print(f\"[{ch}] occurs : {word.count(ch)} times\")"
   ]
  },
  {
   "cell_type": "code",
   "execution_count": 4,
   "id": "fe4ec2c1-7636-443c-932f-d4dfd5f30322",
   "metadata": {},
   "outputs": [
    {
     "name": "stdout",
     "output_type": "stream",
     "text": [
      "Enter s string :hello\n",
      "Word : helloing\n"
     ]
    }
   ],
   "source": [
    "# ADD IY AND ING TO STRING END\n",
    "word=input(\"Enter s string :\").lower()\n",
    "if word.endswith('ing'):\n",
    "    print(\"Word :\",word + 'iy')\n",
    "else:\n",
    "    print(\"Word :\",word+'ing')\n"
   ]
  }
 ],
 "metadata": {
  "kernelspec": {
   "display_name": "Python 3",
   "language": "python",
   "name": "python3"
  },
  "language_info": {
   "codemirror_mode": {
    "name": "ipython",
    "version": 3
   },
   "file_extension": ".py",
   "mimetype": "text/x-python",
   "name": "python",
   "nbconvert_exporter": "python",
   "pygments_lexer": "ipython3",
   "version": "3.6.7"
  }
 },
 "nbformat": 4,
 "nbformat_minor": 5
}
