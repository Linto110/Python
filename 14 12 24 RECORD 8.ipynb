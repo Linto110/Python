
{
 "cells": [
  {
   "cell_type": "code",
   "execution_count": 1,
   "id": "c6b2a2fd-b64e-4fdb-8668-f583c8881a9d",
   "metadata": {},
   "outputs": [
    {
     "name": "stdout",
     "output_type": "stream",
     "text": [
      "Enter the length of rectangle 1:4\n",
      "Enter the breadth rectangle 1:5\n",
      "Enter the length of rectangle 2:6\n",
      "Enter the breadth of rectangle 2:8\n",
      "Rectangle 1 Area=20,Periemeter=18\n",
      "Rectangle 2 Area=48,Periemeter=28\n",
      "Area of object 2 is greter than object 1\n"
     ]
    }
   ],
   "source": [
    "# 1.Create Rectangle class with attributes length and breadth and compare object area\n",
    "class Rectangle():\n",
    "    def __init__(self,length,breadth):\n",
    "        self.length=length\n",
    "        self.breadth=breadth\n",
    "    def r_area(self):\n",
    "        return self.length*self.breadth\n",
    "    def r_perimeter(self):\n",
    "        return 2*(self.length+self.breadth) \n",
    "l=int(input(\"Enter the length of rectangle 1:\"))\n",
    "b=int(input(\"Enter the breadth rectangle 1:\"))\n",
    "rect1=Rectangle(l,b);\n",
    "l=int(input(\"Enter the length of rectangle 2:\"))\n",
    "b=int(input(\"Enter the breadth of rectangle 2:\"))\n",
    "rect2=Rectangle(l,b)\n",
    "print(f\"Rectangle 1 Area={rect1.r_area()},Periemeter={rect1.r_perimeter()}\")\n",
    "print(f\"Rectangle 2 Area={rect2.r_area()},Periemeter={rect2.r_perimeter()}\")\n",
    "if rect1.r_area() <rect2.r_area():\n",
    "    print(\"Area of object 2 is greter than object 1\")\n",
    "else:\n",
    "        print(\"Area of object 1 is greater than object 2\")"
   ]
  },
  {
   "cell_type": "code",
   "execution_count": 6,
   "id": "049009ab-ccc2-4f63-aa85-12e2cf9ee50e",
   "metadata": {},
   "outputs": [
    {
     "name": "stdout",
     "output_type": "stream",
     "text": [
      "Enter your name :Linto Emmanuel\n",
      "Enter your account number :2357564\n",
      "Enter your account type :savings\n",
      "Enter your initial balance :500\n",
      "BANK OPERATIONS \n",
      " ------------ \n",
      "1.Withdraw\n",
      "2.Deposit\n",
      "3.Display\n",
      "4.Exit\n",
      "Enter your option :1\n",
      "Enter the amount to withdraw :200\n",
      "After withdrawal new balance is 300\n",
      "BANK OPERATIONS \n",
      " ------------ \n",
      "1.Withdraw\n",
      "2.Deposit\n",
      "3.Display\n",
      "4.Exit\n",
      "Enter your option :2\n",
      "Enter the amount to deposit :400\n",
      "The amount 400 is deposited,New balance=700\n",
      "BANK OPERATIONS \n",
      " ------------ \n",
      "1.Withdraw\n",
      "2.Deposit\n",
      "3.Display\n",
      "4.Exit\n",
      "Enter your option :3\n",
      "Balance=700\n",
      "BANK OPERATIONS \n",
      " ------------ \n",
      "1.Withdraw\n",
      "2.Deposit\n",
      "3.Display\n",
      "4.Exit\n",
      "Enter your option :4\n",
      "Thankyou for visiting,come again\n"
     ]
    }
   ],
   "source": [
    "# 2.deposit and withdraw using method and  constructor\n",
    "class Myaccount():\n",
    "    def __init__(self,name,id_num,acc_type,acc_balance):\n",
    "        self.name=name\n",
    "        self.id_num=id_num\n",
    "        self.acc_type=acc_type\n",
    "        self.acc_balance=acc_balance\n",
    "    def withdraw(self,amount):\n",
    "        if self.acc_balance<amount:\n",
    "            return f\"You dont have sufficient balance,balance is {self.acc_balance}\"\n",
    "        else:\n",
    "            self.acc_balance-=amount\n",
    "            return f\"After withdrawal new balance is {self.acc_balance}\"\n",
    "    def deposit(self,amount):\n",
    "        self.acc_balance+=amount\n",
    "        return f\"{self.acc_balance}\"\n",
    "    def balance(self):\n",
    "        return self.acc_balance\n",
    "name=input(\"Enter your name :\")\n",
    "id_num=int(input(\"Enter your account number :\"))\n",
    "acc_type=input(\"Enter your account type :\")\n",
    "acc_balance=int(input(\"Enter your initial balance :\"))\n",
    "account=Myaccount(name,id_num,acc_type,acc_balance)\n",
    "while(1):\n",
    "    print(\"BANK OPERATIONS \\n ------------ \\n1.Withdraw\\n2.Deposit\\n3.Display\\n4.Exit\")\n",
    "    ch=int(input(\"Enter your option :\"))\n",
    "    if ch==1:\n",
    "        amount=int(input(\"Enter the amount to withdraw :\"))\n",
    "        print(f\"{account.withdraw(amount)}\")\n",
    "    elif ch==2:\n",
    "        amount=int(input(\"Enter the amount to deposit :\"))\n",
    "        print(f\"The amount {amount} is deposited,New balance={account.deposit(amount)}\")\n",
    "    elif ch==3:\n",
    "        print(f\"Balance={account.balance()}\")\n",
    "    elif ch==4:\n",
    "        print(\"Thankyou for visiting,come again\")\n",
    "        break;\n",
    "    else:\n",
    "        print(\"Enter valid option\")"
   ]
  },
  {
   "cell_type": "code",
   "execution_count": 3,
   "id": "637535d8-ec2e-4109-ad2d-da8124f02001",
   "metadata": {},
   "outputs": [
    {
     "name": "stdout",
     "output_type": "stream",
     "text": [
      "Enter the length of rectangle 1:4\n",
      "Enter the breadth rectangle 1:5\n",
      "Enter the length of rectangle 2:7\n",
      "Enter the breadth rectangle 2:9\n",
      "Rectangle 1 Area=20,Periemeter=18\n",
      "Rectangle 2 Area=63,Periemeter=32\n",
      "Area of object 2 is greater than object 1\n"
     ]
    }
   ],
   "source": [
    "# 3.Compare area of two oject using overload perator\n",
    "class Rectangle():\n",
    "    def __init__(self,length,breadth):\n",
    "        self.__length=length\n",
    "        self.__breadth=breadth\n",
    "    def r_area(self):\n",
    "        return self.__length*self.__breadth\n",
    "    def __lt__(self,other):\n",
    "        return self.r_area()<other.r_area()\n",
    "    def __eq__(self,other):\n",
    "        return self.r_area()==other.r_area()\n",
    "l=int(input(\"Enter the length of rectangle 1:\"))\n",
    "b=int(input(\"Enter the breadth rectangle 1:\"))\n",
    "rect1=Rectangle(l,b);\n",
    "l=int(input(\"Enter the length of rectangle 2:\")) \n",
    "b=int(input(\"Enter the breadth rectangle 2:\"))\n",
    "rect2=Rectangle(l,b)\n",
    "print(f\"Rectangle 1 Area={rect1.r_area()}\")\n",
    "print(f\"Rectangle 2 Area={rect2.r_area()}\")\n",
    "if rect1<rect2:\n",
    "    print(\"Area of object 2 is greater than object 1\")\n",
    "elif rect1==rect2:\n",
    "        print(\"Area of object 1 is equal to object 2\")\n",
    "else:\n",
    "    print(\"Area of object 1 is greater than object 2\")"
   ]
  },
  {
   "cell_type": "code",
   "execution_count": 2,
   "id": "a9b83e99-fb9d-4715-99a8-620dd50670ff",
   "metadata": {},
   "outputs": [
    {
     "name": "stdout",
     "output_type": "stream",
     "text": [
      "First time: 1 hour(s), 45 minute(s), 45 second(s)\n",
      "Second time: 3 hour(s), 56 minute(s), 41 second(s)\n",
      "Sum of time: 5 hour(s), 42 minute(s), 26 second(s)\n"
     ]
    }
   ],
   "source": [
    "# 4.SUM OF TWO TIME\n",
    "class Time:\n",
    "    def __init__(self, hour, min, sec):\n",
    "        self.__hour = hour\n",
    "        self.__min = min\n",
    "        self.__sec = sec\n",
    "    def __add__(self, other):\n",
    "        sec = self.__sec + other.__sec\n",
    "        min = self.__min + other.__min\n",
    "        hour = self.__hour + other.__hour\n",
    "        if sec >= 60:\n",
    "            min += sec // 60\n",
    "            sec = sec % 60\n",
    "        if min >= 60:\n",
    "            hour += min // 60\n",
    "            min = min % 60\n",
    "        return Time(hour, min, sec)\n",
    "    def __str__(self):\n",
    "        return f\"{self.__hour} hour(s), {self.__min} minute(s), {self.__sec} second(s)\"\n",
    "t1 = Time(1, 45, 45)\n",
    "t2 = Time(3, 56, 41)\n",
    "t3 = t1 + t2\n",
    "print(f\"First time: {t1}\")\n",
    "print(f\"Second time: {t2}\")\n",
    "print(f\"Sum of time: {t3}\")"
   ]
  },
  {
   "cell_type": "code",
   "execution_count": 8,
   "id": "bd523dcc-d73a-4f22-9d0f-dd72f9fd12eb",
   "metadata": {},
   "outputs": [
    {
     "name": "stdout",
     "output_type": "stream",
     "text": [
      "Enter publisher name: Jacob dan\n",
      "Enter book title: Life of street kid\n",
      "Enter book author: Jason j\n",
      "Enter book price: 450\n",
      "Enter number of pages: 200\n",
      "\n",
      "Book Information:\n",
      "Publisher: Jacob dan\n",
      "Title: Life of street kid\n",
      "Author: Jason j\n",
      "Price: $450.0\n",
      "Number of Pages: 200\n"
     ]
    }
   ],
   "source": [
    "#5. Display book info using baseclass constructor invocation and method overriding.\n",
    "class Publisher:\n",
    "    def __init__(self, name):\n",
    "        self.name = name\n",
    "    def display(self):\n",
    "        print(f\"Publisher: {self.name}\")\n",
    "class Book(Publisher):\n",
    "    def __init__(self, name, title, author):\n",
    "        super().__init__(name)\n",
    "        self.title = title\n",
    "        self.author = author\n",
    "    def display(self):\n",
    "        super().display()\n",
    "        print(f\"Title: {self.title}\")\n",
    "        print(f\"Author: {self.author}\")\n",
    "class Python(Book):\n",
    "    def __init__(self, name, title, author, price, no_of_pages):\n",
    "        super().__init__(name, title, author)\n",
    "        self.price = price\n",
    "        self.no_of_pages = no_of_pages\n",
    "\n",
    "    def display(self):\n",
    "        super().display()\n",
    "        print(f\"Price: ${self.price}\")\n",
    "        print(f\"Number of Pages: {self.no_of_pages}\")\n",
    "name = input(\"Enter publisher name: \")\n",
    "title = input(\"Enter book title: \")\n",
    "author = input(\"Enter book author: \")\n",
    "price = float(input(\"Enter book price: \"))\n",
    "no_of_pages = int(input(\"Enter number of pages: \"))\n",
    "python_book = Python(name, title, author, price, no_of_pages)\n",
    "print(\"\\nBook Information:\")\n",
    "python_book.display()"
   ]
  }
 ],
 "metadata": {
  "kernelspec": {
   "display_name": "Python 3",
   "language": "python",
   "name": "python3"
  },
  "language_info": {
   "codemirror_mode": {
    "name": "ipython",
    "version": 3
   },
   "file_extension": ".py",
   "mimetype": "text/x-python",
   "name": "python",
   "nbconvert_exporter": "python",
   "pygments_lexer": "ipython3",
   "version": "3.6.7"
  }
 },
 "nbformat": 4,
 "nbformat_minor": 5
}
