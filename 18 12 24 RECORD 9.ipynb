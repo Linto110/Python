{
 "cells": [
  {
   "cell_type": "code",
   "execution_count": 2,
   "id": "0829ffcd-49f7-4b28-ae7c-14cd17502006",
   "metadata": {},
   "outputs": [
    {
     "name": "stdin",
     "output_type": "stream",
     "text": [
      "enter filename:  f.txt\n"
     ]
    },
    {
     "name": "stdout",
     "output_type": "stream",
     "text": [
      "The file stored as list:  ['hello ia m here', 'hi']\n"
     ]
    }
   ],
   "source": [
    "#1. Write a Python program to read a file line by line and store it into a list.\n",
    "r=input(\"enter filename: \")\n",
    "r=open(r,\"r\")\n",
    "lines = r.readlines()\n",
    "lines = [line.strip() for line in lines]\n",
    "print(\"The file stored as list: \",lines)\n",
    "r.close()"
   ]
  },
  {
   "cell_type": "code",
   "execution_count": 3,
   "id": "95b53544-7d1d-4be4-a23e-466c8c4eb8b5",
   "metadata": {},
   "outputs": [
    {
     "name": "stdin",
     "output_type": "stream",
     "text": [
      "enter filename1:  f.txt\n",
      "enter filename2:  exp2.txt\n"
     ]
    },
    {
     "name": "stdout",
     "output_type": "stream",
     "text": [
      "copied odd lines of file1 to file2\n"
     ]
    }
   ],
   "source": [
    "#2. Python program to copy odd lines of one file to other.\n",
    "f1=open(input(\"enter filename1: \"),\"r\")\n",
    "f2=open(input(\"enter filename2: \"),\"w\")\n",
    "ln=1\n",
    "f=f1.readlines\n",
    "line_num = 1\n",
    "for line in f1:\n",
    "    if line_num % 2 != 0:\n",
    "        f2.write(line)\n",
    "    line_num += 1\n",
    "print(\"copied odd lines of file1 to file2\")\n",
    "f1.close()\n",
    "f2.close()"
   ]
  },
  {
   "cell_type": "code",
   "execution_count": 5,
   "id": "032e0e39-0caf-4571-b3fa-34356d542e67",
   "metadata": {},
   "outputs": [
    {
     "name": "stdout",
     "output_type": "stream",
     "text": [
      "each row of py.csv file\n",
      "\n",
      "['Name', 'Age', 'City']\n",
      "['Linto', '22', 'usa']\n",
      "['Nihal', '49', 'uganda']\n",
      "['siiii', '75', 'india']\n"
     ]
    }
   ],
   "source": [
    "#3. Write a Python program to read each row from a given csv file and print a list of strings.\n",
    "import csv\n",
    "file=open('exp3.csv', 'r') \n",
    "row=csv.reader(file)\n",
    "\n",
    "print(\"each row of py.csv file\\n\")\n",
    "for r in row:\n",
    "    print(r)"
   ]
  },
  {
   "cell_type": "code",
   "execution_count": 6,
   "id": "a66f08cf-b71f-45b2-a6b9-b387918b5e7d",
   "metadata": {},
   "outputs": [
    {
     "name": "stdout",
     "output_type": "stream",
     "text": [
      "1st and 2nd columns of py.csv file\n",
      "\n",
      "|Name       | City      |\n",
      "|Linto      | usa       |\n",
      "|Nihal      | uganda    |\n",
      "|siiii      | india     |\n"
     ]
    }
   ],
   "source": [
    "#4. Write a Python program to read specific columns of a given CSV file and print the content of the columns.\n",
    "import csv\n",
    "\n",
    "file = open('exp3.csv', 'r')\n",
    "rows = csv.reader(file)\n",
    "print(\"1st and 2nd columns of py.csv file\\n\")\n",
    "for row in rows:\n",
    "  print(f\"|{row[0]:<10} | {row[2]:<10}|\") "
   ]
  },
  {
   "cell_type": "code",
   "execution_count": 7,
   "id": "c10bc06c-ea71-48d7-9f4a-f4471355cef0",
   "metadata": {},
   "outputs": [
    {
     "name": "stdin",
     "output_type": "stream",
     "text": [
      "Enter names:  linto,usa\n",
      "Enter cities:  nihal,pune\n"
     ]
    },
    {
     "name": "stdout",
     "output_type": "stream",
     "text": [
      "\n",
      "The content of the file: \n",
      "['Name', 'City']\n",
      "['linto,usa', 'nihal,pune']\n"
     ]
    }
   ],
   "source": [
    "#5. Write a Python program to write a Python dictionary to a csv file. After writing the CSV file\n",
    "read the CSV file and display the content.\n",
    "import csv\n",
    "data = dict(zip(input(\"Enter names: \").split(), input(\"Enter cities: \").split()))\n",
    "with open('output.csv', 'w', newline='') as f:\n",
    "    w = csv.writer(f)\n",
    "    w.writerow([\"Name\", \"City\"])\n",
    "    w.writerows(data.items())\n",
    "with open('output.csv', 'r') as f:\n",
    "    print(\"\\nThe content of the file: \",*csv.reader(f), sep='\\n')"
   ]
  }
 ],
 "metadata": {
  "kernelspec": {
   "display_name": "Python 3 (ipykernel)",
   "language": "python",
   "name": "python3"
  },
  "language_info": {
   "codemirror_mode": {
    "name": "ipython",
    "version": 3
   },
   "file_extension": ".py",
   "mimetype": "text/x-python",
   "name": "python",
   "nbconvert_exporter": "python",
   "pygments_lexer": "ipython3",
   "version": "3.11.9"
  }
 },
 "nbformat": 4,
 "nbformat_minor": 5
}
