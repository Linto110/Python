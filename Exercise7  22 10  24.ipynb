
{
 "cells": [
  {
   "cell_type": "code",
   "execution_count": 5,
   "id": "15611677-f597-4035-8de3-e70f0a6a55ac",
   "metadata": {},
   "outputs": [
    {
     "name": "stdin",
     "output_type": "stream",
     "text": [
      "Enter a number : 34\n",
      "Enter a number : 56\n"
     ]
    },
    {
     "name": "stdout",
     "output_type": "stream",
     "text": [
      "56 is greatest\n"
     ]
    }
   ],
   "source": [
    "# greast amoung 2 numbers\n",
    "num1=int(input(\"Enter a number :\"))\n",
    "num2=int(input(\"Enter a number :\"))\n",
    "if num1>num2:\n",
    " print(f\"{num1} is greatest\")\n",
    "else:\n",
    " print(f\"{num2} is greatest\")"
   ]
  },
  {
   "cell_type": "code",
   "execution_count": 23,
   "id": "f5cbc97b-3788-4efe-812e-2b7e6212aedd",
   "metadata": {},
   "outputs": [
    {
     "name": "stdin",
     "output_type": "stream",
     "text": [
      "Enter a number : 0\n"
     ]
    },
    {
     "name": "stdout",
     "output_type": "stream",
     "text": [
      "Zero is neither positive nor negative\n"
     ]
    }
   ],
   "source": [
    "# number positive or negative\n",
    "num1=int(input(\"Enter a number :\"))\n",
    "if num1>0:\n",
    " print(f\"{num1} is positive\")\n",
    "elif num1==0:\n",
    " print(\"Zero is neither positive nor negative\")\n",
    "else:\n",
    " print(f\"{num1} is negative\")"
   ]
  },
  {
   "cell_type": "code",
   "execution_count": 10,
   "id": "398ab59d-647b-4b8b-ab19-55ff425b39d7",
   "metadata": {},
   "outputs": [
    {
     "name": "stdin",
     "output_type": "stream",
     "text": [
      "Enter a length : 9\n",
      "Enter a breadth : 9\n"
     ]
    },
    {
     "name": "stdout",
     "output_type": "stream",
     "text": [
      "Square is possible\n"
     ]
    }
   ],
   "source": [
    "# square possible or not\n",
    "length=int(input(\"Enter a length :\"))\n",
    "breadth=int(input(\"Enter a breadth :\"))\n",
    "if length==breadth:\n",
    " print(\"Square is possible\")\n",
    "else:\n",
    " print(\"Square is not possible\")"
   ]
  },
  {
   "cell_type": "code",
   "execution_count": 13,
   "id": "13dcaf00-7a70-44d7-8023-46a448f8614e",
   "metadata": {},
   "outputs": [
    {
     "name": "stdin",
     "output_type": "stream",
     "text": [
      "Enter a num1 : 140\n",
      "Enter a num2 : 8\n"
     ]
    },
    {
     "name": "stdout",
     "output_type": "stream",
     "text": [
      "The product =1120\n",
      "sum=148\n"
     ]
    }
   ],
   "source": [
    "# product greater than 1000 then print sum\n",
    "num1=int(input(\"Enter a num1 :\"))\n",
    "num2=int(input(\"Enter a num2 :\"))\n",
    "sum=num1+num2\n",
    "num1*=num2\n",
    "print(f\"The product ={num1}\")\n",
    "if(num1>1000):\n",
    " print(f\"sum={sum}\")"
   ]
  },
  {
   "cell_type": "code",
   "execution_count": 28,
   "id": "8f8b1e47-2c5f-4222-a133-c6ca781dab49",
   "metadata": {},
   "outputs": [
    {
     "name": "stdin",
     "output_type": "stream",
     "text": [
      "Number of classes held: 21\n",
      "Numbr of classes attended: 25\n"
     ]
    },
    {
     "name": "stdout",
     "output_type": "stream",
     "text": [
      "You are eligible for the exam,You have 84.0 attendence.\n"
     ]
    }
   ],
   "source": [
    "# above 75% eligible for the exam\n",
    "held=int(input(\"Number of classes held:\"))letters\n",
    "attended=int(input(\"Numbr of classes attended:\"))\n",
    "if(held/attended*100)>=75:\n",
    "    print(f\"You are eligible for the exam,You have {(held/attended)*100} attendence.\")\n",
    "else:\n",
    "    print(f\"YOu are not eligible for the exam,You have {(held/attended)*100} attendence.\")"
   ]
  },
  {
   "cell_type": "code",
   "execution_count": 1,
   "id": "a0125604-8331-4801-8718-c214b428fa52",
   "metadata": {},
   "outputs": [
    {
     "name": "stdin",
     "output_type": "stream",
     "text": [
      "Enter a list of numbers seperated by comma 1,2,3,4,5,1\n"
     ]
    },
    {
     "name": "stdout",
     "output_type": "stream",
     "text": [
      "The first and last numbers are same =True\n"
     ]
    }
   ],
   "source": [
    "numbers=input(\"Enter a list of numbers seperated by comma\").split(\",\")\n",
    "if numbers[0]==numbers[-1]:\n",
    " print(\"The first and last numbers are same =True\")"
   ]
  },
  {
   "cell_type": "code",
   "execution_count": null,
   "id": "ad05d8de-6a5e-4cfb-a319-2575c70690e1",
   "metadata": {},
   "outputs": [],
   "source": [
    "numbers=input(\"Enter the numbers :\").split()\n",
    "for i in numbers"
   ]
  }
 ],
 "metadata": {
  "kernelspec": {
   "display_name": "Python 3 (ipykernel)",
   "language": "python",
   "name": "python3"
  },
  "language_info": {
   "codemirror_mode": {
    "name": "ipython",
    "version": 3
   },
   "file_extension": ".py",
   "mimetype": "text/x-python",
   "name": "python",
   "nbconvert_exporter": "python",
   "pygments_lexer": "ipython3",
   "version": "3.11.9"
  }
 },
 "nbformat": 4,
 "nbformat_minor": 5
}
