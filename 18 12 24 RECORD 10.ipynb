{
 "cells": [
  {
   "cell_type": "code",
   "execution_count": 12,
   "id": "0048167e-59eb-4313-b46e-c95fbbd199ab",
   "metadata": {},
   "outputs": [
    {
     "name": "stdout",
     "output_type": "stream",
     "text": [
      "Enter a number : 0\n"
     ]
    },
    {
     "name": "stdout",
     "output_type": "stream",
     "text": [
      "Error:Division by zero not allowed\n"
     ]
    }
   ],
   "source": [
    "#1. Write a program to handle ZeroDivisionError, ValueError which may arise when two numbers are being divided.\n",
    "try:\n",
    "    n=int(input(\"Enter a number :\"))\n",
    "    a=20/n\n",
    "except ZeroDivisionError:\n",
    "    print(\"Error:Division by zero not allowed\")\n",
    "except ValueError:\n",
    "    print(\"Error:Invalid input.Input numeric values\")\n",
    "else:\n",
    "    print(a)"
   ]
  },
  {
   "cell_type": "code",
   "execution_count": null,
   "id": "6409f1de-a263-44ee-92ef-546d17e03445",
   "metadata": {},
   "outputs": [],
   "source": [
    " "
   ]
  }
 ],
 "metadata": {
  "kernelspec": {
   "display_name": "Python 3 (ipykernel)",
   "language": "python",
   "name": "python3"
  },
  "language_info": {
   "codemirror_mode": {
    "name": "ipython",
    "version": 3
   },
   "file_extension": ".py",
   "mimetype": "text/x-python",
   "name": "python",
   "nbconvert_exporter": "python",
   "pygments_lexer": "ipython3",
   "version": "3.11.9"
  }
 },
 "nbformat": 4,
 "nbformat_minor": 5
}
