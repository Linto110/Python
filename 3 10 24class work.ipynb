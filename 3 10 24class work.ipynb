{
 "cells": [
  {
   "cell_type": "code",
   "execution_count": 66,
   "id": "5aa53ba4-d32a-41c8-90ce-7c971cbc5e45",
   "metadata": {},
   "outputs": [
    {
     "name": "stdin",
     "output_type": "stream",
     "text": [
      "Enter a number : 12\n"
     ]
    },
    {
     "name": "stdout",
     "output_type": "stream",
     "text": [
      "number is positive\n"
     ]
    }
   ],
   "source": [
    "#NUM POSITIVE OR NEGATIVE\n",
    "a=int(input(\"Enter a number :\"))\n",
    "if a>0:\n",
    " print(\"number is positive\")\n",
    "elif a<0:\n",
    " print(\"Number is negative\")\n",
    "else:\n",
    " print(\"the number is zero\")"
   ]
  },
  {
   "cell_type": "code",
   "execution_count": 21,
   "id": "21f837d9-4dd8-471e-9b1c-5ee024d7ec79",
   "metadata": {},
   "outputs": [
    {
     "name": "stdin",
     "output_type": "stream",
     "text": [
      "Enter a number 11\n"
     ]
    },
    {
     "name": "stdout",
     "output_type": "stream",
     "text": [
      "the number is odd\n"
     ]
    }
   ],
   "source": [
    "#EVEN OR ODD\n",
    "num=int(input(\"Enter a number\"))\n",
    "if num%2==0:\n",
    "    print(\"The number is even\")\n",
    "else:\n",
    "    print(\"the number is odd\")"
   ]
  },
  {
   "cell_type": "code",
   "execution_count": 56,
   "id": "07cf93e6-969c-4c24-8c8a-5029640a959a",
   "metadata": {},
   "outputs": [
    {
     "name": "stdin",
     "output_type": "stream",
     "text": [
      "Enter first number : 6\n",
      "Enter second number : 5\n"
     ]
    },
    {
     "name": "stdout",
     "output_type": "stream",
     "text": [
      "THe swapped values num1=5 num2=6\n"
     ]
    }
   ],
   "source": [
    "#SWAP VALUES WITHOUT THIRD VARIBALE\n",
    "num1=int(input(\"Enter first number :\"))\n",
    "num2=int(input(\"Enter second number :\"))\n",
    "num1,num2=num2,num1\n",
    "print(f\"THe swapped values num1={num1} num2={num2}\")"
   ]
  },
  {
   "cell_type": "code",
   "execution_count": 43,
   "id": "ddb432c3-71d5-40a0-9578-e484c03cf804",
   "metadata": {},
   "outputs": [
    {
     "name": "stdin",
     "output_type": "stream",
     "text": [
      "Enter a character : B\n"
     ]
    },
    {
     "name": "stdout",
     "output_type": "stream",
     "text": [
      "The charcter 'B' is not a vowel\n"
     ]
    }
   ],
   "source": [
    "#CHAR VOWELS OR NOT\n",
    "char=(input(\"Enter a character :\"))\n",
    "if char in 'aeiouAEIOU':\n",
    " print(f\"The character '{char}' is a vowel\")\n",
    "else:\n",
    " print(f\"The charcter '{char}' is not a vowel\")"
   ]
  },
  {
   "cell_type": "code",
   "execution_count": 65,
   "id": "fa30e280-e89a-4763-8e9d-27fa20e80252",
   "metadata": {},
   "outputs": [
    {
     "name": "stdin",
     "output_type": "stream",
     "text": [
      "Enter a number : 5\n"
     ]
    },
    {
     "name": "stdout",
     "output_type": "stream",
     "text": [
      "The square root of 5 =25\n"
     ]
    }
   ],
   "source": [
    "#SQUARE ROOT OF A NUMBER\n",
    "num=int(input(\"Enter a number :\"))\n",
    "square=num*num\n",
    "print(f\"The square root of {num} ={square}\")"
   ]
  },
  {
   "cell_type": "code",
   "execution_count": 50,
   "id": "141ae414-93ce-4145-910d-a9eb360f7a18",
   "metadata": {},
   "outputs": [
    {
     "name": "stdin",
     "output_type": "stream",
     "text": [
      "Enter a number: 12\n"
     ]
    },
    {
     "name": "stdout",
     "output_type": "stream",
     "text": [
      "not divisible\n"
     ]
    }
   ],
   "source": [
    "#NUMBER DIVISIBLE BY 5\n",
    "def divisible(num):\n",
    " if num%5==0 :\n",
    "    return f\"The number is divisble by 5\"\n",
    " else:\n",
    "    return  \"not divisible\"\n",
    "num=int(input(\"Enter a number:\"))\n",
    "print(divisible(num))"
   ]
  },
  {
   "cell_type": "code",
   "execution_count": 67,
   "id": "613768e3-2e3b-4e82-9317-88f12f7e5d4b",
   "metadata": {},
   "outputs": [
    {
     "name": "stdin",
     "output_type": "stream",
     "text": [
      "Enter a string : hello\n"
     ]
    },
    {
     "name": "stdout",
     "output_type": "stream",
     "text": [
      "The length of the string =5\n",
      "lowercase\n"
     ]
    }
   ],
   "source": [
    "#LENGTH OF A STRING AND LOWER OR HIGHER CASE\n",
    "word=(input(\"Enter a string :\"))\n",
    "length=len(word)\n",
    "print(f\"The length of the string ={length}\")\n",
    "if word.islower():\n",
    "    print(\"The string is in lowercase\")\n",
    "else:\n",
    " print(\"The string is in uppercase\")"
   ]
  },
  {
   "cell_type": "code",
   "execution_count": 60,
   "id": "37931a04-03b9-499e-ace0-781fa6e87896",
   "metadata": {},
   "outputs": [
    {
     "name": "stdin",
     "output_type": "stream",
     "text": [
      "Enter the year : 1234\n"
     ]
    },
    {
     "name": "stdout",
     "output_type": "stream",
     "text": [
      "1234 not a leap year\n"
     ]
    }
   ],
   "source": [
    "#LEAP YEAR\n",
    "year=int(input(\"Enter the year :\"))\n",
    "if year%4==0:\n",
    " print(f\"{year} is a leap year\")\n",
    "else:\n",
    " print(f\"{year} not a leap year\")\n"
   ]
  },
  {
   "cell_type": "code",
   "execution_count": null,
   "id": "539bc1bf-a4a0-4829-a343-333707ab486e",
   "metadata": {},
   "outputs": [],
   "source": []
  }
 ],
 "metadata": {
  "kernelspec": {
   "display_name": "Python 3 (ipykernel)",
   "language": "python",
   "name": "python3"
  },
  "language_info": {
   "codemirror_mode": {
    "name": "ipython",
    "version": 3
   },
   "file_extension": ".py",
   "mimetype": "text/x-python",
   "name": "python",
   "nbconvert_exporter": "python",
   "pygments_lexer": "ipython3",
   "version": "3.11.9"
  }
 },
 "nbformat": 4,
 "nbformat_minor": 5
}
