{
 "cells": [
  {
   "cell_type": "code",
   "execution_count": 1,
   "id": "28956101-3765-43ac-8fe4-9cb71e24f311",
   "metadata": {},
   "outputs": [
    {
     "name": "stdout",
     "output_type": "stream",
     "text": [
      "Enter emails (space separated):  lintoemmanuel@gmail.com lintoemmanuel@\n",
      "Enter phone numbers (space separated):  8589929288 324743788\n"
     ]
    },
    {
     "name": "stdout",
     "output_type": "stream",
     "text": [
      "\n",
      "Checking emails:\n",
      "lintoemmanuel@gmail.com is valid.\n",
      "lintoemmanuel@ is not a valid email.\n",
      "\n",
      "Checking phone numbers:\n",
      "8589929288 is likely a valid phone number.\n",
      "324743788 is not a valid phone number.\n"
     ]
    }
   ],
   "source": [
    "#1. Write a Python program that accepts a list of email addresses and phone numbers from the user, separated by commas, and validates \n",
    "#each input using regular expressions.\n",
    "import re\n",
    "emails = input(\"Enter emails (space separated): \").split()\n",
    "phones = input(\"Enter phone numbers (space separated): \").split()\n",
    "print(\"\\nChecking emails:\")\n",
    "for email in emails:\n",
    "  if re.match(r\"^[a-zA-Z0-9._%+-]+@[a-zA-Z0-9.-]+\\.[a-zA-Z]{2,}$\", email):\n",
    "    print(email,\"is valid.\")\n",
    "  else:\n",
    "    print(email,\"is not a valid email.\")\n",
    "print(\"\\nChecking phone numbers:\")\n",
    "for phone in phones:\n",
    "  if re.match(r\"^[1-9]\\d{9}$\", phone):\n",
    "    print(phone,\"is likely a valid phone number.\")\n",
    "  else:\n",
    "    print(phone,\"is not a valid phone number.\")"
   ]
  },
  {
   "cell_type": "code",
   "execution_count": null,
   "id": "d6324741-6cc6-44ce-955f-49a3d5f4e2b0",
   "metadata": {},
   "outputs": [],
   "source": []
  }
 ],
 "metadata": {
  "kernelspec": {
   "display_name": "Python 3 (ipykernel)",
   "language": "python",
   "name": "python3"
  },
  "language_info": {
   "codemirror_mode": {
    "name": "ipython",
    "version": 3
   },
   "file_extension": ".py",
   "mimetype": "text/x-python",
   "name": "python",
   "nbconvert_exporter": "python",
   "pygments_lexer": "ipython3",
   "version": "3.11.9"
  }
 },
 "nbformat": 4,
 "nbformat_minor": 5
}
