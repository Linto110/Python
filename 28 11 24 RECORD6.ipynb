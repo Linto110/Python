{
 "cells": [
  {
   "cell_type": "code",
   "execution_count": 1,
   "id": "4f393264",
   "metadata": {},
   "outputs": [
    {
     "name": "stdout",
     "output_type": "stream",
     "text": [
      "Enter the year :2036\n",
      "Leap years till 2036 =[2024, 2028, 2032, 2036]\n"
     ]
    }
   ],
   "source": [
    "#1. Display future leap years from current year to a final year entered by user.\n",
    "import datetime\n",
    "def leap(end):\n",
    "    leap_year=[]\n",
    "    c_year=datetime.datetime.now().year\n",
    "    for x in range(c_year,end+1):\n",
    "        if (x%4==0 and x%100!=0) or x%400==0:\n",
    "            leap_year.append(x)\n",
    "    return leap_year\n",
    "end_year=int(input(\"Enter the year :\"))\n",
    "print(f\"Leap years till {end_year} ={leap(end_year)}\")"
   ]
  },
  {
   "cell_type": "code",
   "execution_count": 5,
   "id": "405b3d91",
   "metadata": {},
   "outputs": [
    {
     "name": "stdout",
     "output_type": "stream",
     "text": [
      "Enter a number :5\n",
      "Factorial of 5 = 120\n"
     ]
    }
   ],
   "source": [
    "#2. Program to find the factorial of a number.\n",
    "def cal_factorial(num):\n",
    "    fcatorial=1\n",
    "    for i in range(1,num+1):\n",
    "        fcatorial*=i\n",
    "    return fcatorial\n",
    "num=int(input(\"Enter a number :\"))\n",
    "print(f\"Factorial of {num} = {cal_factorial(num)}\")"
   ]
  },
  {
   "cell_type": "code",
   "execution_count": 11,
   "id": "d1f095df",
   "metadata": {},
   "outputs": [
    {
     "name": "stdout",
     "output_type": "stream",
     "text": [
      "Enter a limit :8\n",
      "Fibonacci series of 8 terms=[0, 1, 1, 2, 3, 5, 8, 13]\n"
     ]
    }
   ],
   "source": [
    "#3. Generate Fibonacci series of N terms\n",
    "def print_fibo(num):\n",
    "    number=[0,1]\n",
    "    for i in range(2,num):\n",
    "        number.append(number[i-1]+number[i-2])\n",
    "    return number\n",
    "num=int(input(\"Enter a limit :\"))\n",
    "print(f\"Fibonacci series of {num} terms={print_fibo(num)}\")"
   ]
  },
  {
   "cell_type": "code",
   "execution_count": 19,
   "id": "d4dbf4fc",
   "metadata": {},
   "outputs": [
    {
     "name": "stdout",
     "output_type": "stream",
     "text": [
      "Enter a sentence :hello i am here\n",
      "hello is the longest word with 5 characters\n"
     ]
    }
   ],
   "source": [
    "#4. Accept a list of words and return length of longest word.\n",
    "def longest(words):\n",
    "    longest_word=''\n",
    "    for word in words:\n",
    "        if len(word)>len(longest_word):\n",
    "            longest_word=word\n",
    "    print(f\"{longest_word} is the longest word with {len(longest_word)} characters\")\n",
    "words=input(\"Enter a sentence :\").split()\n",
    "longest(words)"
   ]
  },
  {
   "cell_type": "code",
   "execution_count": 32,
   "id": "22c49cf5",
   "metadata": {},
   "outputs": [
    {
     "name": "stdout",
     "output_type": "stream",
     "text": [
      "Enter numbers of rows :5\n",
      "\n",
      "*\n",
      "**\n",
      "***\n",
      "****\n",
      "*****\n",
      "****\n",
      "***\n",
      "**\n",
      "*\n"
     ]
    }
   ],
   "source": [
    "'''5. Construct following pattern using nested loop\n",
    "                        * \n",
    "                        *   * \n",
    "                        *   *   * \n",
    "                        *   *   *   *    \n",
    "                        *   *   *   *   *    \n",
    "                        *   *   *   *    \n",
    "                        *   *   *   * \n",
    "                        *   *\n",
    "                        *'''\n",
    "def pyramid(rows):\n",
    "    for i in range(0,rows+1):\n",
    "        for j in range(0,i):\n",
    "            print(\"*\",end=\"\")\n",
    "        print()\n",
    "    for i in range(rows-1,0,-1):\n",
    "        for j in range(i):\n",
    "            print(\"*\",end=\"\")\n",
    "        print()\n",
    "rows=int(input(\"Enter numbers of rows :\"))\n",
    "pyramid(rows)"
   ]
  },
  {
   "cell_type": "code",
   "execution_count": 36,
   "id": "c256aa1c",
   "metadata": {},
   "outputs": [
    {
     "name": "stdout",
     "output_type": "stream",
     "text": [
      "Enter a number :15\n",
      "The factors of 15 =[1, 3, 5, 15]\n"
     ]
    }
   ],
   "source": [
    "#6. Generate all factors of a number\n",
    "def factor(num):\n",
    "    factors=[]\n",
    "    for i in range(1,num+1):\n",
    "        if num%i==0:\n",
    "            factors.append(i)\n",
    "    print(f\"The factors of {num} ={factors}\")\n",
    "num=int(input(\"Enter a number :\"))\n",
    "factor(num)"
   ]
  },
  {
   "cell_type": "code",
   "execution_count": 43,
   "id": "f2d6b0cc",
   "metadata": {},
   "outputs": [
    {
     "name": "stdout",
     "output_type": "stream",
     "text": [
      "Enter number of rows :4\n",
      "1 \n",
      "2 4 \n",
      "3 6 9 \n",
      "4 8 12 16 \n"
     ]
    }
   ],
   "source": [
    "'''7.  Display the given pyramid with step number accepted from user.\n",
    "Eg: N=4 \n",
    "                       1 \n",
    "                       2   4\n",
    "                       3   6   9 \n",
    "                       4   8   12   16'''\n",
    "def pyramid(rows):\n",
    "    for i in range(1,rows+1):\n",
    "        for j in range(1,i+1):\n",
    "            print(i*j,end=\" \")\n",
    "        print()\n",
    "rows=int(input(\"Enter number of rows :\"))\n",
    "pyramid(rows)"
   ]
  },
  {
   "cell_type": "code",
   "execution_count": 7,
   "id": "afbbb36d",
   "metadata": {},
   "outputs": [
    {
     "name": "stdout",
     "output_type": "stream",
     "text": [
      "Enter length of a square :5\n",
      "Area of the square =  25\n",
      "Enter the length of rectangle :12\n",
      "Enter the width of rectangle :4\n",
      "Area of the rectangle =  48\n",
      "Enter the base of triangle :10\n",
      "Enter the height of rectangle :15\n",
      "Area of the triangle =  75.0\n"
     ]
    }
   ],
   "source": [
    "#8. Write lambda functions to find area of square, rectangle and triangle.\n",
    "square=int(input(\"Enter length of a square :\"))\n",
    "s_area=lambda x:x*x\n",
    "print(\"Area of the square = \",s_area(square))\n",
    "length=int(input(\"Enter the length of rectangle :\"))\n",
    "width=int(input(\"Enter the width of rectangle :\"))\n",
    "r_area=lambda x,y:x*y\n",
    "print(\"Area of the rectangle = \",r_area(length,width))\n",
    "base=int(input(\"Enter the base of triangle :\"))\n",
    "height=int(input(\"Enter the height of rectangle :\"))\n",
    "t_area=lambda x,y:0.5*x*y      \n",
    "print(\"Area of the triangle = \",t_area(base,height))"
   ]
  }
 ],
 "metadata": {
  "kernelspec": {
   "display_name": "Python 3",
   "language": "python",
   "name": "python3"
  },
  "language_info": {
   "codemirror_mode": {
    "name": "ipython",
    "version": 3
   },
   "file_extension": ".py",
   "mimetype": "text/x-python",
   "name": "python",
   "nbconvert_exporter": "python",
   "pygments_lexer": "ipython3",
   "version": "3.6.7"
  }
 },
 "nbformat": 4,
 "nbformat_minor": 5
}
