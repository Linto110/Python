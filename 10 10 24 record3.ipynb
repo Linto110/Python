{
 "cells": [
  {
   "cell_type": "code",
   "execution_count": 17,
   "id": "44d57dfc-b0a8-4b21-bd66-02c4e0b9e53b",
   "metadata": {},
   "outputs": [
    {
     "name": "stdout",
     "output_type": "stream",
     "text": [
      "Enter a string :hello\n",
      "The reversed word =oellh\n"
     ]
    }
   ],
   "source": [
    "# python nythop \n",
    "a=(input(\"Enter a string :\"))\n",
    "reversedword=a[-1]+a[1:-1]+a[0]\n",
    "print(f\"The reversed word ={reversedword}\")"
   ]
  },
  {
   "cell_type": "code",
   "execution_count": 16,
   "id": "6506eb19-4696-4ebf-8814-ac036360f10d",
   "metadata": {},
   "outputs": [
    {
     "name": "stdout",
     "output_type": "stream",
     "text": [
      "Enter string 1:hello\n",
      "Enter string 2:world\n",
      "First word =wollo\n",
      "second word =herld\n"
     ]
    }
   ],
   "source": [
    "# FIRST 2 LETTER SWAP\n",
    "first=(input(\"Enter string 1:\"))\n",
    "second=(input(\"Enter string 2:\"))\n",
    "first_word=second[0:2]+first[2:]\n",
    "second_word=first[0:2]+second[2:]\n",
    "print(f\"First word ={first_word}\")\n",
    "print(f\"second word ={second_word}\")"
   ]
  },
  {
   "cell_type": "code",
   "execution_count": 9,
   "id": "08e28f43-147a-4a7f-80d9-2cf080632638",
   "metadata": {},
   "outputs": [
    {
     "name": "stdout",
     "output_type": "stream",
     "text": [
      "Enter a stringmalayalam\n",
      "malayala$\n"
     ]
    }
   ],
   "source": [
    "# FIRST CHARACTER TO $\n",
    "string=(input(\"Enter a string\"))\n",
    "print(string[0]+string[1:].replace(string[0],'$'))"
   ]
  },
  {
   "cell_type": "code",
   "execution_count": 4,
   "id": "3833a36f-b283-46e0-b8a2-4c3fa931f189",
   "metadata": {},
   "outputs": [
    {
     "name": "stdin",
     "output_type": "stream",
     "text": [
      "Enter the colors : yellow,green,red,blue\n"
     ]
    },
    {
     "name": "stdout",
     "output_type": "stream",
     "text": [
      "First color =yellow\tLast color =blue\n"
     ]
    }
   ],
   "source": [
    "#COLORS FIRST LAST\n",
    "colors=input(\"Enter the colors :\")\n",
    "color=colors.split(\",\")\n",
    "print(\"First color =\"+color[0] +\"\\tLast color =\"+color[-1])"
   ]
  },
  {
   "cell_type": "code",
   "execution_count": 26,
   "id": "665b4bfe-2405-42a9-96d8-babbf583d206",
   "metadata": {},
   "outputs": [
    {
     "name": "stdout",
     "output_type": "stream",
     "text": [
      "Enter the file name :hello.py\n",
      "The extention of the file is =py\n"
     ]
    }
   ],
   "source": [
    "# FILE EXTENTION\n",
    "filename=input(\"Enter the file name :\")\n",
    "extention=filename.split(\".\")[-1]\n",
    "print(f\"The extention of the file is ={extention}\")"
   ]
  },
  {
   "cell_type": "code",
   "execution_count": 6,
   "id": "9f0c78f0-6178-4599-b065-408d4a3d7e35",
   "metadata": {},
   "outputs": [
    {
     "name": "stdin",
     "output_type": "stream",
     "text": [
      "Enter the numbers : 1,2,3,4,5,6,7,8,9\n"
     ]
    },
    {
     "name": "stdout",
     "output_type": "stream",
     "text": [
      "The tuple = ('1', '2', '3', '4', '5', '6', '7', '8', '9')\n",
      "Third one in tuple =3\tLast third in tuple =7\n"
     ]
    }
   ],
   "source": [
    "#TUPLE THIRD AND LAST THIRD\n",
    "mt=tuple(input(\"Enter the numbers :\").split(\",\"))\n",
    "print(\"The tuple =\",mt)\n",
    "print(\"Third one in tuple =\"+mt[2]+\"\\tLast third in tuple =\"+mt[-3])"
   ]
  },
  {
   "cell_type": "code",
   "execution_count": 8,
   "id": "062320f8-adc6-4f84-92e2-4590fca704d5",
   "metadata": {},
   "outputs": [
    {
     "name": "stdin",
     "output_type": "stream",
     "text": [
      "Enter color1 : red,green,yellow\n",
      "Enter color1 : red\n"
     ]
    },
    {
     "name": "stdout",
     "output_type": "stream",
     "text": [
      "{'yellow', 'green'}\n"
     ]
    }
   ],
   "source": [
    "# color 1 not in color 2\n",
    "f=set(input(\"Enter color1 :\").split(\",\"))\n",
    "s=set(input(\"Enter color1 :\").split(\",\"))\n",
    "diff=f.difference(s)\n",
    "print(f\"{diff}\")"
   ]
  },
  {
   "cell_type": "code",
   "execution_count": 25,
   "id": "d3dc4768-f09a-426f-a818-e003fa7973e6",
   "metadata": {},
   "outputs": [
    {
     "name": "stdout",
     "output_type": "stream",
     "text": [
      "Enter 5 student names separated by spaces: linto nandha nihal jeseem roshan\n",
      "Students sorted in ascending order: {1: 'linto', 2: 'nandha', 3: 'nihal', 4: 'jeseem', 5: 'roshan'}\n",
      "Students sorted in descending order: {5: 'roshan', 4: 'jeseem', 3: 'nihal', 2: 'nandha', 1: 'linto'}\n"
     ]
    }
   ],
   "source": [
    "# Getting input from the user\n",
    "student_names = input(\"Enter 5 student names separated by spaces: \").split()\n",
    "students = dict(zip(range(1, 6),student_names))\n",
    "sorted_students_asc = dict(sorted(students.items()))\n",
    "sorted_students_desc = dict(sorted(students.items(), reverse=True))\n",
    "print(\"Students sorted in ascending order:\", sorted_students_asc)\n",
    "print(\"Students sorted in descending order:\", sorted_students_desc)\n"
   ]
  },
  {
   "cell_type": "code",
   "execution_count": 23,
   "id": "2000a095-0adf-498d-b9ef-b63756244c71",
   "metadata": {},
   "outputs": [
    {
     "name": "stdout",
     "output_type": "stream",
     "text": [
      "Enter 2 student names separated by spaces: alice litty\n",
      "Enter other 2 student names separated by spaces: pritty linto\n",
      "Merge dic = {1: 'alice', 2: 'litty', 3: 'pritty', 4: 'linto'}\n"
     ]
    }
   ],
   "source": [
    "# Accepting student names from the user\n",
    "student_names1 = input(\"Enter 2 student names separated by spaces: \").split()\n",
    "student_names2 = input(\"Enter other 2 student names separated by spaces: \").split()\n",
    "student_names=student_names1 + student_names2\n",
    "merged=dict(zip(range(1,len(student_names)+1),student_names))\n",
    "print(\"Merge dic =\",merged)"
   ]
  },
  {
   "cell_type": "code",
   "execution_count": 11,
   "id": "c8d418d7-d11b-4494-86d0-90f9664dbf45",
   "metadata": {},
   "outputs": [
    {
     "name": "stdout",
     "output_type": "stream",
     "text": [
      "[0, 2, 4, 6, 8, 10, 12, 14, 16, 18, 20, 22, 24]\n",
      "sum of even numbers 0-25 : 156\n"
     ]
    }
   ],
   "source": [
    "#1-25 even number\n",
    "num=range(0,25,2)\n",
    "print(list(num))\n",
    "print(\"sum of even numbers 0-25 :\",sum(num))"
   ]
  },
  {
   "cell_type": "code",
   "execution_count": null,
   "id": "4366dc5e-8404-4a45-88b3-2e413c904677",
   "metadata": {},
   "outputs": [],
   "source": []
  }
 ],
 "metadata": {
  "kernelspec": {
   "display_name": "Python 3",
   "language": "python",
   "name": "python3"
  },
  "language_info": {
   "codemirror_mode": {
    "name": "ipython",
    "version": 3
   },
   "file_extension": ".py",
   "mimetype": "text/x-python",
   "name": "python",
   "nbconvert_exporter": "python",
   "pygments_lexer": "ipython3",
   "version": "3.6.7"
  }
 },
 "nbformat": 4,
 "nbformat_minor": 5
}
