
{
 "cells": [
  {
   "cell_type": "code",
   "execution_count": 17,
   "id": "44d57dfc-b0a8-4b21-bd66-02c4e0b9e53b",
   "metadata": {},
   "outputs": [
    {
     "name": "stdout",
     "output_type": "stream",
     "text": [
      "Enter a string :hello\n",
      "The reversed word =oellh\n"
     ]
    }
   ],
   "source": [
    "# python nythop \n",
    "a=(input(\"Enter a string :\"))\n",
    "reversedword=a[-1]+a[1:-1]+a[0]\n",
    "print(f\"The reversed word ={reversedword}\")"
   ]
  },
  {
   "cell_type": "code",
   "execution_count": 25,
   "id": "6506eb19-4696-4ebf-8814-ac036360f10d",
   "metadata": {},
   "outputs": [
    {
     "name": "stdout",
     "output_type": "stream",
     "text": [
      "Enter string 1:hello\n",
      "Enter string 2:world\n",
      "The word = wollo herld\n"
     ]
    }
   ],
   "source": [
    "# FIRST 2 LETTER SWAP\n",
    "first=(input(\"Enter string 1:\"))\n",
    "second=(input(\"Enter string 2:\"))\n",
    "result = second[0:2] + first[2:] + \" \" + first[0:2] + second[2:]\n",
    "print(\"The word =\", result)"
   ]
  },
  {
   "cell_type": "code",
   "execution_count": 9,
   "id": "08e28f43-147a-4a7f-80d9-2cf080632638",
   "metadata": {},
   "outputs": [
    {
     "name": "stdout",
     "output_type": "stream",
     "text": [
      "Enter a stringmalayalam\n",
      "malayala$\n"
     ]
    }
   ],
   "source": [
    "# FIRST CHARACTER TO $\n",
    "string=(input(\"Enter a string\"))\n",
    "print(string[0]+string[1:].replace(string[0],'$'))"
   ]
  },
  {
   "cell_type": "code",
   "execution_count": 19,
   "id": "3833a36f-b283-46e0-b8a2-4c3fa931f189",
   "metadata": {},
   "outputs": [
    {
     "name": "stdout",
     "output_type": "stream",
     "text": [
      "Enter the colors seperated by comma :red,blue,orange,green\n",
      "First color = red \tLast color = green\n"
     ]
    }
   ],
   "source": [
    "#COLORS FIRST LAST\n",
    "colors=input(\"Enter the colors seperated by comma :\").split(\",\")\n",
    "print(\"First color =\",colors[0],\"\\tLast color =\",colors[-1])"
   ]
  },
  {
   "cell_type": "code",
   "execution_count": 7,
   "id": "665b4bfe-2405-42a9-96d8-babbf583d206",
   "metadata": {},
   "outputs": [
    {
     "name": "stdout",
     "output_type": "stream",
     "text": [
      "Enter the file name :hello.html\n",
      "The extention of the file is = html\n"
     ]
    }
   ],
   "source": [
    "# FILE EXTENTION\n",
    "filename=input(\"Enter the file name :\")\n",
    "print(\"The extention of the file is =\",filename.split(\".\")[-1])"
   ]
  },
  {
   "cell_type": "code",
   "execution_count": 6,
   "id": "9f0c78f0-6178-4599-b065-408d4a3d7e35",
   "metadata": {},
   "outputs": [
    {
     "name": "stdin",
     "output_type": "stream",
     "text": [
      "Enter the numbers : 1,2,3,4,5,6,7,8,9\n"
     ]
    },
    {
     "name": "stdout",
     "output_type": "stream",
     "text": [
      "The tuple = ('1', '2', '3', '4', '5', '6', '7', '8', '9')\n",
      "Third one in tuple =3\tLast third in tuple =7\n"
     ]
    }
   ],
   "source": [
    "#TUPLE THIRD AND LAST THIRD\n",
    "mt=tuple(input(\"Enter the numbers seperated by comma:\").split(\",\"))\n",
    "print(\"The tuple =\",mt)\n",
    "print(\"Third one in tuple =\"+mt[2]+\"\\tLast third in tuple =\"+mt[-3])"
   ]
  },
  {
   "cell_type": "code",
   "execution_count": 6,
   "id": "062320f8-adc6-4f84-92e2-4590fca704d5",
   "metadata": {},
   "outputs": [
    {
     "name": "stdout",
     "output_type": "stream",
     "text": [
      "Enter color1 :red,green,blue\n",
      "Enter color1 :orange,green,dark\n",
      "Color present in set1 but not in set2 = {'blue', 'red'}\n"
     ]
    }
   ],
   "source": [
    "# color 1 not in color 2\n",
    "f=set(input(\"Enter color1 seperated by comma:\").split(\",\"))\n",
    "s=set(input(\"Enter color1 seperated by comma:\").split(\",\"))\n",
    "print(\"Color present in set1 but not in set2 =\",f-s)"
   ]
  },
  {
   "cell_type": "code",
   "execution_count": 17,
   "id": "d3dc4768-f09a-426f-a818-e003fa7973e6",
   "metadata": {},
   "outputs": [
    {
     "name": "stdout",
     "output_type": "stream",
     "text": [
      "Enter 5 student names separated by spaces: alice linto litty pritty nevin\n",
      "Students sorted in ascending order: {0: 'alice', 1: 'linto', 2: 'litty', 3: 'pritty', 4: 'nevin'}\n",
      "Students sorted in descending order: {4: 'nevin', 3: 'pritty', 2: 'litty', 1: 'linto', 0: 'alice'}\n"
     ]
    }
   ],
   "source": [
    "# Dictionary acending and decending\n",
    "student_names = input(\"Enter 5 student names separated by spaces: \").split()\n",
    "students = dict(enumerate(student_names))\n",
    "print(\"Students sorted in ascending order:\", dict(sorted(students.items())))\n",
    "print(\"Students sorted in descending order:\", dict(sorted(students.items(), reverse=True)))"
   ]
  },
  {
   "cell_type": "code",
   "execution_count": 15,
   "id": "2000a095-0adf-498d-b9ef-b63756244c71",
   "metadata": {},
   "outputs": [
    {
     "name": "stdout",
     "output_type": "stream",
     "text": [
      "Enter 3 student names separated by spaces: linto litty pritty\n",
      "Enter other 2 student names separated by spaces: alice nevin\n",
      "Merge dic = {1: 'linto', 2: 'litty', 3: 'pritty', 4: 'alice', 5: 'nevin'}\n"
     ]
    }
   ],
   "source": [
    "# Accepting student names from the user\n",
    "n1= input(\"Enter 3 student names separated by spaces: \").split()\n",
    "dict1={1:n1[0],2:n1[1],3:n1[2]}\n",
    "n2 = input(\"Enter other 2 student names separated by spaces: \").split()\n",
    "dict2={4:n2[0],5:n2[1]}\n",
    "dict1.update(dict2)\n",
    "print(\"Merge dic =\",dict1)"
   ]
  },
  {
   "cell_type": "code",
   "execution_count": 11,
   "id": "c8d418d7-d11b-4494-86d0-90f9664dbf45",
   "metadata": {},
   "outputs": [
    {
     "name": "stdout",
     "output_type": "stream",
     "text": [
      "[0, 2, 4, 6, 8, 10, 12, 14, 16, 18, 20, 22, 24]\n",
      "sum of even numbers 0-25 : 156\n"
     ]
    }
   ],
   "source": [
    "#1-25 even number\n",
    "num=range(0,25,2)\n",
    "print(list(num))\n",
    "print(\"sum of even numbers 0-25 :\",sum(num))"
   ]
  },
  {
   "cell_type": "code",
   "execution_count": null,
   "id": "4366dc5e-8404-4a45-88b3-2e413c904677",
   "metadata": {},
   "outputs": [],
   "source": []
  }
 ],
 "metadata": {
  "kernelspec": {
   "display_name": "Python 3",
   "language": "python",
   "name": "python3"
  },
  "language_info": {
   "codemirror_mode": {
    "name": "ipython",
    "version": 3
   },
   "file_extension": ".py",
   "mimetype": "text/x-python",
   "name": "python",
   "nbconvert_exporter": "python",
   "pygments_lexer": "ipython3",
   "version": "3.6.7"
  }
 },
 "nbformat": 4,
 "nbformat_minor": 5
}
