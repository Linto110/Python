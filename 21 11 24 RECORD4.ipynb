
{
 "cells": [
  {
   "cell_type": "code",
   "execution_count": 3,
   "id": "4ab01465-cd3d-4d55-9948-29ecae568a6e",
   "metadata": {},
   "outputs": [
    {
     "name": "stdout",
     "output_type": "stream",
     "text": [
      "Enter a string :hello i am here Hello\n",
      "Occurenec of words : [{'hello': 2, 'i': 1, 'am': 1, 'here': 1}]\n"
     ]
    }
   ],
   "source": [
    "#occurence of each word\n",
    "string=input(\"Enter a string :\").lower().split()\n",
    "print(\"Occurenec of words :\",[{word:string.count(word) for word in string}])"
   ]
  },
  {
   "cell_type": "code",
   "execution_count": 5,
   "id": "f1ea326a-1d51-45e2-b930-23f6c166cef1",
   "metadata": {},
   "outputs": [
    {
     "name": "stdout",
     "output_type": "stream",
     "text": [
      "Enter a list of numbers (Seperated by space)15 120 67 56 129\n",
      "After storing : [15, 'Over', 67, 56, 'Over']\n"
     ]
    }
   ],
   "source": [
    "# IF GREATER THEN 100 MAKE IT OVER\n",
    "numbers=input(\"Enter a list of numbers (Seperated by space)\").split()\n",
    "print(\"After storing :\",[int(x) if int(x)<100 else \"Over\" for x in numbers])"
   ]
  },
  {
   "cell_type": "code",
   "execution_count": 6,
   "id": "2c0819b6-df31-4c52-bdbc-4bf5e01ca4f3",
   "metadata": {},
   "outputs": [
    {
     "name": "stdout",
     "output_type": "stream",
     "text": [
      "Enter the names (Seperated by spaces) :nihal jaseem roshan\n",
      "Occurence of 'a' in names : 3\n"
     ]
    }
   ],
   "source": [
    "# OCCURENEC OF A\n",
    "names=input(\"Enter the names (Seperated by spaces) :\").split()\n",
    "occurence=sum([name.lower().count('a') for name in names ])\n",
    "print(\"Occurence of 'a' in names :\",occurence)"
   ]
  },
  {
   "cell_type": "code",
   "execution_count": 8,
   "id": "8b326574-36d3-412e-b989-2b8490d199af",
   "metadata": {
    "scrolled": true
   },
   "outputs": [
    {
     "name": "stdout",
     "output_type": "stream",
     "text": [
      "Enter first number list :1 4 6\n",
      "Enter second number list :2 6 3\n",
      "Is length of both list same =  ['Yes']\n",
      "Is sum of both list same =  ['Yes']\n",
      "Do both carry any same value=  True\n"
     ]
    }
   ],
   "source": [
    "# 2 LIST OPERATIONS\n",
    "number1=list(map(int,input(\"Enter first number list :\").split()))\n",
    "number2=list(map(int,input(\"Enter second number list :\").split()))\n",
    "length=[\"Yes\" if len(number1)==len(number2) else \"No\"]\n",
    "total=[\"Yes\" if sum(number1)==sum(number2) else \"No\"]\n",
    "print(\"Is length of both list same = \",length)\n",
    "print(\"Is sum of both list same = \",total)\n",
    "print(\"Do both carry any same value= \",any(item in number1 for item in number2 ))"
   ]
  },
  {
   "cell_type": "code",
   "execution_count": 9,
   "id": "afa4b45e-0fa2-461b-b112-2a77344927fa",
   "metadata": {},
   "outputs": [
    {
     "name": "stdout",
     "output_type": "stream",
     "text": [
      "Enter a list of numbers :2 3 4 5 \n",
      "Positive numbers : [2, 3, 4, 5]\n",
      "Square of numbers: [4, 9, 16, 25]\n",
      "Enter a word :hello\n",
      "Vowels present in the word : ['e', 'o']\n",
      "Ordial value of characters : [104, 101, 108, 108, 111]\n"
     ]
    }
   ],
   "source": [
    "# List Comprehentions\n",
    "numbers=input(\"Enter a list of numbers :\").split()\n",
    "positive=[int(x) for x in numbers if int(x)>0]\n",
    "print(\"Positive numbers :\",positive)\n",
    "square=[int(x)*int(x) for x in numbers ]\n",
    "print(\"Square of numbers:\",square)\n",
    "word=input(\"Enter a word :\")\n",
    "vowels=[char for char in word if char.lower() in 'aeiou']\n",
    "print(\"Vowels present in the word :\",vowels)\n",
    "ordial=[ord(char) for char in word]\n",
    "print(\"Ordial value of characters :\",ordial)"
   ]
  }
 ],
 "metadata": {
  "kernelspec": {
   "display_name": "Python 3",
   "language": "python",
   "name": "python3"
  },
  "language_info": {
   "codemirror_mode": {
    "name": "ipython",
    "version": 3
   },
   "file_extension": ".py",
   "mimetype": "text/x-python",
   "name": "python",
   "nbconvert_exporter": "python",
   "pygments_lexer": "ipython3",
   "version": "3.6.7"
  }
 },
 "nbformat": 4,
 "nbformat_minor": 5
}
